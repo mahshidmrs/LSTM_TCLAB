{
 "cells": [
  {
   "cell_type": "markdown",
   "metadata": {},
   "source": [
    "# addvantage and disadvantage of adding layer in LSTM\n",
    "The same uncertainty about the amount also exists for the number of hidden layers to use. Again,\n",
    "the ideal number for any given use case will be different and is best to be decided by running different models \n",
    "against each other. Generally, 2 layers have shown to be enough to detect more complex features. \n",
    "More layers can be better for improving accuracy but also harder to train. 1 hidden layer work with simple problems, \n",
    "and two are enough to find reasonably complex features.\n",
    "source:https://towardsdatascience.com/\n",
    "\n",
    "\n",
    "As much as one hidden layer is normally sufficient for the large majority of problems,\n",
    "there are instances where having several layers would be ideal. Problems like language translation, \n",
    "building generative chatbots etc are good cases where the deeper you go the more likely for the performance\n",
    "and accuracy to be improved using Sequence-to-Sequence recurrent neural networks.\n",
    "To determine the number of hidden layers in such problems is a trial and test approach where you may\n",
    "add layers depending on the output.\n",
    "source: https://www.linkedin.com/pulse/generative-chatbots-how-many-lstm-layers-should-you\n"
   ]
  },
  {
   "cell_type": "code",
   "execution_count": 1,
   "metadata": {},
   "outputs": [],
   "source": [
    "import pandas as pd\n",
    "import numpy as np\n",
    "import matplotlib.pyplot as plt\n",
    "from sklearn.preprocessing import MinMaxScaler\n",
    "import time\n",
    "import tensorflow as tf\n",
    "# For LSTM model\n",
    "from keras.models import Sequential\n",
    "from keras.layers import Dense\n",
    "from keras.layers import LSTM\n",
    "from keras.layers import Dropout\n",
    "from keras.callbacks import EarlyStopping\n",
    "from keras.models import load_model"
   ]
  },
  {
   "cell_type": "code",
   "execution_count": 2,
   "metadata": {},
   "outputs": [],
   "source": [
    "# Load training data\n",
    "file = \"C:/Users/Mahshid/OneDrive/Documents/LSTM_TCLAB/tclab_data.csv\"\n",
    "train = pd.read_csv(file)"
   ]
  },
  {
   "cell_type": "code",
   "execution_count": 3,
   "metadata": {},
   "outputs": [
    {
     "data": {
      "text/html": [
       "<div>\n",
       "<style scoped>\n",
       "    .dataframe tbody tr th:only-of-type {\n",
       "        vertical-align: middle;\n",
       "    }\n",
       "\n",
       "    .dataframe tbody tr th {\n",
       "        vertical-align: top;\n",
       "    }\n",
       "\n",
       "    .dataframe thead th {\n",
       "        text-align: right;\n",
       "    }\n",
       "</style>\n",
       "<table border=\"1\" class=\"dataframe\">\n",
       "  <thead>\n",
       "    <tr style=\"text-align: right;\">\n",
       "      <th></th>\n",
       "      <th>Time</th>\n",
       "      <th>Q1</th>\n",
       "      <th>Q2</th>\n",
       "      <th>T1</th>\n",
       "      <th>T2</th>\n",
       "    </tr>\n",
       "  </thead>\n",
       "  <tbody>\n",
       "    <tr>\n",
       "      <th>0</th>\n",
       "      <td>0.000000</td>\n",
       "      <td>0</td>\n",
       "      <td>0</td>\n",
       "      <td>24.44</td>\n",
       "      <td>0</td>\n",
       "    </tr>\n",
       "    <tr>\n",
       "      <th>1</th>\n",
       "      <td>1.000385</td>\n",
       "      <td>0</td>\n",
       "      <td>0</td>\n",
       "      <td>24.44</td>\n",
       "      <td>0</td>\n",
       "    </tr>\n",
       "    <tr>\n",
       "      <th>2</th>\n",
       "      <td>2.000896</td>\n",
       "      <td>0</td>\n",
       "      <td>0</td>\n",
       "      <td>24.44</td>\n",
       "      <td>0</td>\n",
       "    </tr>\n",
       "    <tr>\n",
       "      <th>3</th>\n",
       "      <td>3.002267</td>\n",
       "      <td>0</td>\n",
       "      <td>0</td>\n",
       "      <td>24.44</td>\n",
       "      <td>0</td>\n",
       "    </tr>\n",
       "    <tr>\n",
       "      <th>4</th>\n",
       "      <td>4.002946</td>\n",
       "      <td>0</td>\n",
       "      <td>0</td>\n",
       "      <td>24.44</td>\n",
       "      <td>0</td>\n",
       "    </tr>\n",
       "  </tbody>\n",
       "</table>\n",
       "</div>"
      ],
      "text/plain": [
       "       Time  Q1  Q2     T1  T2\n",
       "0  0.000000   0   0  24.44   0\n",
       "1  1.000385   0   0  24.44   0\n",
       "2  2.000896   0   0  24.44   0\n",
       "3  3.002267   0   0  24.44   0\n",
       "4  4.002946   0   0  24.44   0"
      ]
     },
     "execution_count": 3,
     "metadata": {},
     "output_type": "execute_result"
    }
   ],
   "source": [
    "train.head()"
   ]
  },
  {
   "cell_type": "code",
   "execution_count": 4,
   "metadata": {},
   "outputs": [
    {
     "data": {
      "text/html": [
       "<div>\n",
       "<style scoped>\n",
       "    .dataframe tbody tr th:only-of-type {\n",
       "        vertical-align: middle;\n",
       "    }\n",
       "\n",
       "    .dataframe tbody tr th {\n",
       "        vertical-align: top;\n",
       "    }\n",
       "\n",
       "    .dataframe thead th {\n",
       "        text-align: right;\n",
       "    }\n",
       "</style>\n",
       "<table border=\"1\" class=\"dataframe\">\n",
       "  <thead>\n",
       "    <tr style=\"text-align: right;\">\n",
       "      <th></th>\n",
       "      <th>Time</th>\n",
       "      <th>Q1</th>\n",
       "      <th>Q2</th>\n",
       "      <th>T1</th>\n",
       "      <th>T2</th>\n",
       "    </tr>\n",
       "  </thead>\n",
       "  <tbody>\n",
       "    <tr>\n",
       "      <th>count</th>\n",
       "      <td>14400.000000</td>\n",
       "      <td>14400.000000</td>\n",
       "      <td>14400.0</td>\n",
       "      <td>14400.000000</td>\n",
       "      <td>14400.0</td>\n",
       "    </tr>\n",
       "    <tr>\n",
       "      <th>mean</th>\n",
       "      <td>7225.617796</td>\n",
       "      <td>37.649792</td>\n",
       "      <td>0.0</td>\n",
       "      <td>51.225248</td>\n",
       "      <td>0.0</td>\n",
       "    </tr>\n",
       "    <tr>\n",
       "      <th>std</th>\n",
       "      <td>4172.240864</td>\n",
       "      <td>20.347736</td>\n",
       "      <td>0.0</td>\n",
       "      <td>10.547532</td>\n",
       "      <td>0.0</td>\n",
       "    </tr>\n",
       "    <tr>\n",
       "      <th>min</th>\n",
       "      <td>0.000000</td>\n",
       "      <td>0.000000</td>\n",
       "      <td>0.0</td>\n",
       "      <td>24.410000</td>\n",
       "      <td>0.0</td>\n",
       "    </tr>\n",
       "    <tr>\n",
       "      <th>25%</th>\n",
       "      <td>3611.056373</td>\n",
       "      <td>20.000000</td>\n",
       "      <td>0.0</td>\n",
       "      <td>42.490000</td>\n",
       "      <td>0.0</td>\n",
       "    </tr>\n",
       "    <tr>\n",
       "      <th>50%</th>\n",
       "      <td>7227.769288</td>\n",
       "      <td>43.000000</td>\n",
       "      <td>0.0</td>\n",
       "      <td>52.480000</td>\n",
       "      <td>0.0</td>\n",
       "    </tr>\n",
       "    <tr>\n",
       "      <th>75%</th>\n",
       "      <td>10841.950105</td>\n",
       "      <td>55.000000</td>\n",
       "      <td>0.0</td>\n",
       "      <td>59.677500</td>\n",
       "      <td>0.0</td>\n",
       "    </tr>\n",
       "    <tr>\n",
       "      <th>max</th>\n",
       "      <td>14445.452020</td>\n",
       "      <td>70.000000</td>\n",
       "      <td>0.0</td>\n",
       "      <td>74.070000</td>\n",
       "      <td>0.0</td>\n",
       "    </tr>\n",
       "  </tbody>\n",
       "</table>\n",
       "</div>"
      ],
      "text/plain": [
       "               Time            Q1       Q2            T1       T2\n",
       "count  14400.000000  14400.000000  14400.0  14400.000000  14400.0\n",
       "mean    7225.617796     37.649792      0.0     51.225248      0.0\n",
       "std     4172.240864     20.347736      0.0     10.547532      0.0\n",
       "min        0.000000      0.000000      0.0     24.410000      0.0\n",
       "25%     3611.056373     20.000000      0.0     42.490000      0.0\n",
       "50%     7227.769288     43.000000      0.0     52.480000      0.0\n",
       "75%    10841.950105     55.000000      0.0     59.677500      0.0\n",
       "max    14445.452020     70.000000      0.0     74.070000      0.0"
      ]
     },
     "execution_count": 4,
     "metadata": {},
     "output_type": "execute_result"
    }
   ],
   "source": [
    "train.describe()"
   ]
  },
  {
   "cell_type": "code",
   "execution_count": 5,
   "metadata": {},
   "outputs": [],
   "source": [
    "# Scale features(for normalizing)\n",
    "s1 = MinMaxScaler(feature_range=(-1,1))\n",
    "Xs = s1.fit_transform(train[['T1','Q1']])\n",
    "\n",
    "# Scale predicted value\n",
    "s2 = MinMaxScaler(feature_range=(-1,1))\n",
    "Ys = s2.fit_transform(train[['T1']])\n",
    "\n",
    "# Each time step uses last 'window' to predict the next change\n",
    "window = 70\n",
    "X = []\n",
    "Y = []\n",
    "for i in range(window,len(Xs)):\n",
    "    X.append(Xs[i-window:i,:])\n",
    "    Y.append(Ys[i])\n",
    "    \n",
    "# Reshape data to format accepted by LSTM\n",
    "X, Y = np.array(X), np.array(Y)"
   ]
  },
  {
   "cell_type": "markdown",
   "metadata": {},
   "source": [
    "# Regression Loss Functions:\n",
    "1-Mean Squared Error Loss \n",
    "\n",
    "2-Mean Squared Logarithmic Error Loss -> tf.keras.losses.MeanSquaredLogarithmicError()\n",
    "\n",
    "3-Mean Absolute Error Loss -> tf.keras.losses.MeanAbsoluteError()\n",
    "\n",
    "Resaults showed that the worst error loss function is mean squared logarthmic error and others are similar but the runtime of mean squared error is less than absolute error. The reason of these differences comes from their equations.  \n"
   ]
  },
  {
   "cell_type": "code",
   "execution_count": 17,
   "metadata": {},
   "outputs": [],
   "source": [
    "# create and train LSTM model\n",
    "\n",
    "# Initialize LSTM model\n",
    "model = Sequential()\n",
    "# sequential=> because of multiple input and multiple output\n",
    "# adding layer = make higher featers level\n",
    "# adding units = improving LSTM function\n",
    "# if units>>0 our model may be overfit and if we have a few units,...\n",
    "# our model may be underfit\n",
    "model.add(LSTM(units=50, return_sequences=True, \\\n",
    "          input_shape=(X.shape[1],X.shape[2])))\n",
    "model.add(Dropout(0.2))\n",
    "model.add(LSTM(units=50, return_sequences=True))\n",
    "model.add(Dropout(0.2))\n",
    "model.add(LSTM(units=50))\n",
    "model.add(Dropout(0.2))\n",
    "model.add(Dense(units=1))\n",
    "model.compile(optimizer = 'adam', loss = 'mean_squared_error',\\\n",
    "              metrics = ['accuracy'])"
   ]
  },
  {
   "cell_type": "markdown",
   "metadata": {},
   "source": [
    "# Increasing batch and epochs:\n",
    "    \n",
    "   As you know, if number of batch size or epochs are being risen, accuracy will be better. But also run time will increase too. But in this case I did not see any improving in accuracy and also in loss function(I saw a few changes:) ) with increasing epochs numbers because we have simple model and we do not need to many number of epochs.\n",
    "    Moreover, when number of batch_size had been increased , Loss has been seldom decreased but I did not observe any changes in accuracy.  \n",
    "    For solving this problem, we must trade of between accuracy and time and it depends on our model and the perfomance that we need.\n",
    "    \n",
    "   Consequences will be shown in pdf file."
   ]
  },
  {
   "cell_type": "markdown",
   "metadata": {},
   "source": [
    "# Early stopping\n",
    "Early stopping requires that you configure your network to be under constrained, meaning that it has more capacity than is required for the problem.\n",
    "\n",
    "When training the network, a larger number of training epochs is used than may normally be required, to give the network plenty of opportunity to fit, then begin to overfit the training dataset.\n",
    "\n",
    "There are three elements to using early stopping; they are:\n",
    "\n",
    "-Monitoring model performance.\n",
    "\n",
    "-Trigger to stop training.\n",
    "\n",
    "-The choice of model to use.\n",
    "\n",
    "monitor: Quantity to be monitored.\n",
    "\n",
    "mode: One of {\"auto\", \"min\", \"max\"}. In min mode, training will stop when the quantity monitored has stopped decreasing; in \"max\" mode it will stop when the quantity monitored has stopped increasing; in \"auto\" mode, the direction is automatically inferred from the name of the monitored quantity.\n",
    "\n",
    "patience: Number of epochs with no improvement after which training will be stopped.\n",
    "verbose: verbosity mode.\n",
    "\n",
    "In this case, when early stopping had been removed, runtime has been increased. "
   ]
  },
  {
   "cell_type": "code",
   "execution_count": 18,
   "metadata": {},
   "outputs": [
    {
     "name": "stdout",
     "output_type": "stream",
     "text": [
      "Epoch 1/10\n",
      "58/58 [==============================] - 21s 294ms/step - loss: 0.0130 - accuracy: 2.7913e-04\n",
      "Epoch 2/10\n",
      "58/58 [==============================] - 17s 298ms/step - loss: 0.0021 - accuracy: 2.7913e-04\n",
      "Epoch 3/10\n",
      "58/58 [==============================] - 18s 315ms/step - loss: 0.0019 - accuracy: 2.7913e-04\n",
      "Epoch 4/10\n",
      "58/58 [==============================] - 17s 293ms/step - loss: 0.0016 - accuracy: 2.7913e-04\n",
      "Epoch 5/10\n",
      "58/58 [==============================] - 17s 292ms/step - loss: 0.0015 - accuracy: 2.7913e-04\n",
      "Epoch 6/10\n",
      "58/58 [==============================] - 17s 300ms/step - loss: 0.0015 - accuracy: 2.7913e-04\n",
      "Epoch 7/10\n",
      "58/58 [==============================] - 17s 297ms/step - loss: 0.0014 - accuracy: 2.7913e-04\n",
      "Epoch 8/10\n",
      "58/58 [==============================] - 17s 301ms/step - loss: 0.0014 - accuracy: 2.7913e-04\n",
      "Epoch 9/10\n",
      "58/58 [==============================] - 18s 318ms/step - loss: 0.0014 - accuracy: 2.7913e-04\n",
      "Epoch 10/10\n",
      "58/58 [==============================] - 17s 294ms/step - loss: 0.0013 - accuracy: 2.7913e-04\n",
      "Runtime: 177.88 s\n"
     ]
    }
   ],
   "source": [
    "# Allow for early exit \n",
    "es = EarlyStopping(monitor='loss',mode='min',verbose=1,patience=10)\n",
    "\n",
    "# Fit (and time) LSTM model\n",
    "t0 = time.time()\n",
    "history = model.fit(X, Y, epochs = 10, batch_size = 250, callbacks=[es], verbose=1)\n",
    "t1 = time.time()\n",
    "print('Runtime: %.2f s' %(t1-t0))"
   ]
  },
  {
   "cell_type": "code",
   "execution_count": 19,
   "metadata": {},
   "outputs": [
    {
     "data": {
      "image/png": "[encoded data removed]",
      "text/plain": [
       "<Figure size 576x288 with 1 Axes>"
      ]
     },
     "metadata": {
      "needs_background": "light"
     },
     "output_type": "display_data"
    }
   ],
   "source": [
    "# Plot loss \n",
    "plt.figure(figsize=(8,4))\n",
    "plt.semilogy(history.history['loss'])\n",
    "plt.xlabel('epoch'); plt.ylabel('loss')\n",
    "plt.savefig('tclab_loss.png')\n",
    "model.save('model.h5')"
   ]
  },
  {
   "cell_type": "code",
   "execution_count": 20,
   "metadata": {},
   "outputs": [],
   "source": [
    "# Verify the fit of the model\n",
    "Yp = model.predict(X)"
   ]
  },
  {
   "cell_type": "code",
   "execution_count": 21,
   "metadata": {},
   "outputs": [
    {
     "data": {
      "image/png": "[encoded data removed]",
      "text/plain": [
       "<Figure size 720x432 with 2 Axes>"
      ]
     },
     "metadata": {
      "needs_background": "light"
     },
     "output_type": "display_data"
    }
   ],
   "source": [
    "# un-scale outputs\n",
    "Yu = s2.inverse_transform(Yp)\n",
    "Ym = s2.inverse_transform(Y)\n",
    "\n",
    "plt.figure(figsize=(10,6))\n",
    "plt.subplot(2,1,1)\n",
    "plt.plot(train['Time'][window:],Yu,'r-',label='LSTM')\n",
    "plt.plot(train['Time'][window:],Ym,'k--',label='Measured')\n",
    "plt.ylabel('Temperature (°C)')\n",
    "plt.legend()\n",
    "plt.subplot(2,1,2)\n",
    "plt.plot(train['Q1'],label='heater (%)')\n",
    "plt.legend()\n",
    "plt.xlabel('Time (sec)'); plt.ylabel('Heater')\n",
    "plt.savefig('tclab_fit.png')"
   ]
  },
  {
   "cell_type": "code",
   "execution_count": 16,
   "metadata": {},
   "outputs": [],
   "source": [
    "# Load model\n",
    "v = load_model('model.h5')"
   ]
  },
  {
   "cell_type": "code",
   "execution_count": 17,
   "metadata": {},
   "outputs": [
    {
     "name": "stderr",
     "output_type": "stream",
     "text": [
      "C:\\Users\\Mahshid\\Anaconda3\\lib\\site-packages\\sklearn\\base.py:451: UserWarning: X does not have valid feature names, but MinMaxScaler was fitted with feature names\n",
      "  \"X does not have valid feature names, but\"\n",
      "C:\\Users\\Mahshid\\Anaconda3\\lib\\site-packages\\sklearn\\base.py:451: UserWarning: X does not have valid feature names, but MinMaxScaler was fitted with feature names\n",
      "  \"X does not have valid feature names, but\"\n"
     ]
    }
   ],
   "source": [
    "# Load training data\n",
    "test = pd.read_csv('C:/Users/Mahshid/OneDrive/Documents/LSTM_TCLAB/tclab_data_training.txt')\n",
    "\n",
    "Xt = test[['T1','Q1']].values\n",
    "Yt = test[['T1']].values\n",
    "\n",
    "Xts = s1.transform(Xt)\n",
    "Yts = s2.transform(Yt)\n",
    "\n",
    "Xti = []\n",
    "Yti = []\n",
    "for i in range(window,len(Xts)):\n",
    "    Xti.append(Xts[i-window:i,:])\n",
    "    Yti.append(Yts[i])\n"
   ]
  },
  {
   "cell_type": "code",
   "execution_count": 18,
   "metadata": {},
   "outputs": [],
   "source": [
    "# Reshape data to format accepted by LSTM\n",
    "Xti, Yti = np.array(Xti), np.array(Yti)"
   ]
  },
  {
   "cell_type": "code",
   "execution_count": 19,
   "metadata": {},
   "outputs": [
    {
     "data": {
      "image/png": "[encoded data removed]",
      "text/plain": [
       "<Figure size 720x432 with 2 Axes>"
      ]
     },
     "metadata": {
      "needs_background": "light"
     },
     "output_type": "display_data"
    }
   ],
   "source": [
    "# Verify the fit of the model\n",
    "Ytp = model.predict(Xti)\n",
    "\n",
    "# un-scale outputs\n",
    "Ytu = s2.inverse_transform(Ytp)\n",
    "Ytm = s2.inverse_transform(Yti)\n",
    "\n",
    "plt.figure(figsize=(10,6))\n",
    "plt.subplot(2,1,1)\n",
    "plt.plot(test['Time'][window:],Ytu,'r-',label='LSTM Predicted')\n",
    "plt.plot(test['Time'][window:],Ytm,'k--',label='Measured')\n",
    "plt.legend()\n",
    "plt.ylabel('Temperature (°C)')\n",
    "plt.subplot(2,1,2)\n",
    "plt.plot(test['Time'],test['Q1'],'b-',label='Heater')\n",
    "plt.xlabel('Time (sec)'); plt.ylabel('Heater (%)')\n",
    "plt.legend()\n",
    "plt.savefig('tclab_validate.png')\n"
   ]
  },
  {
   "cell_type": "code",
   "execution_count": null,
   "metadata": {},
   "outputs": [],
   "source": [
    "# Using predicted values to predict next step\n",
    "Xtsq = Xts.copy()\n",
    "for i in range(window,len(Xtsq)):\n",
    "    Xin = Xtsq[i-window:i].reshape((1, window, 2))\n",
    "    Xtsq[i][0] = v.predict(Xin)\n",
    "    Yti[i-window] = Xtsq[i][0]\n",
    "\n",
    "#Ytu = (Yti - s2.min_[0])/s2.scale_[0]\n",
    "Ytu = s2.inverse_transform(Yti)\n",
    "\n",
    "plt.figure(figsize=(10,6))\n",
    "plt.subplot(2,1,1)\n",
    "plt.plot(test['Time'][window:],Ytu,'r-',label='LSTM Predicted')\n",
    "plt.plot(test['Time'][window:],Ytm,'k--',label='Measured')\n",
    "plt.legend()\n",
    "plt.ylabel('Temperature (°C)')\n",
    "plt.subplot(2,1,2)\n",
    "plt.plot(test['Time'],test['Q1'],'b-',label='Heater')\n",
    "plt.xlabel('Time (sec)'); plt.ylabel('Heater (%)')\n",
    "plt.legend()\n",
    "plt.savefig('tclab_forecast.png')\n",
    "plt.show()"
   ]
  }
 ],
 "metadata": {
  "kernelspec": {
   "display_name": "Python 3",
   "language": "python",
   "name": "python3"
  },
  "language_info": {
   "codemirror_mode": {
    "name": "ipython",
    "version": 3
   },
   "file_extension": ".py",
   "mimetype": "text/x-python",
   "name": "python",
   "nbconvert_exporter": "python",
   "pygments_lexer": "ipython3",
   "version": "3.7.3"
  }
 },
 "nbformat": 4,
 "nbformat_minor": 4
}
